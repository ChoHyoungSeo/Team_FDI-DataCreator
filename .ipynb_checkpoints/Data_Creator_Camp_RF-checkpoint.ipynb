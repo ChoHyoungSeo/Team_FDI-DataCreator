{
 "cells": [
  {
   "cell_type": "code",
   "execution_count": null,
   "metadata": {},
   "outputs": [],
   "source": [
    "from sklearn import metrics, model_selection\n",
    "from sklearn.ensemble import RandomForestClassifier\n",
    "from sklearn.model_selection import train_test_split,GridSearchCV\n",
    "import pandas as pd\n",
    "import numpy as np\n",
    "\n",
    "#-*- coding:utf-8 -*-\n",
    "\n",
    "X = pd.read_csv(\"C:/Users/LG/Desktop/prepro_x_train.csv\")\n",
    "Y = pd.read_csv(\"C:/Users/LG/Desktop/train_target2.csv\")\n",
    "\n",
    "train_data, train_label = X.iloc[:66452, 3:], Y.iloc[:66452, 2]\n",
    "test_data, test_label = X.iloc[66452:, 3:], Y.iloc[66452:, 2]\n",
    "\n",
    "def MinMaxScaler(data):\n",
    "    numerator = data - np.min(data, 0)\n",
    "    denominator = np.max(data, 0) - np.min(data, 0)\n",
    "    return numerator / (denominator + 1e-7)\n",
    "\n",
    "new_train_data = MinMaxScaler(train_data)\n",
    "new_test_data = MinMaxScaler(test_data)\n",
    "\n",
    "clf = RandomForestClassifier(n_estimators=200, max_depth = 20, oob_score=True)"
   ]
  },
  {
   "cell_type": "code",
   "execution_count": null,
   "metadata": {},
   "outputs": [],
   "source": [
    "param_grid = {\n",
    "    'bootstrap': [True],\n",
    "    'max_depth': [80, 90, 100, 110],\n",
    "    'max_features': [2, 3],\n",
    "    'min_samples_leaf': [3, 4, 5],\n",
    "    'min_samples_split': [8, 10, 12],\n",
    "    'n_estimators': [100, 200, 300, 1000]\n",
    "}\n",
    "gread = GridSearchCv(estimator = clf, param_grid = param_grid, cv = 3)\n",
    "gread.fit(new_train_data, new_test_data)\n",
    "scores_df[['params','mean_test_score','rank_test_score','split0_test_score','split2_test_score']]\n",
    "print(scores_df)\n",
    "print(\"최적의 파라미터:\",gsearch2.best_params_)\n",
    "print(\"최고 정확도: {0:.4f}\".format(gsearch2.best_score_))\n",
    "clf = gread.best_estimator_"
   ]
  },
  {
   "cell_type": "code",
   "execution_count": null,
   "metadata": {},
   "outputs": [],
   "source": [
    "clf.fit(new_train_data, train_label)\n",
    "\n",
    "predict = clf.predict(new_test_data)\n",
    "\n",
    "ac_score = metrics.accuracy_score(test_label, predict)\n",
    "\n",
    "print('정답률 =', round(ac_score, 2))"
   ]
  }
 ],
 "metadata": {
  "kernelspec": {
   "display_name": "Python 3",
   "language": "python",
   "name": "python3"
  },
  "language_info": {
   "codemirror_mode": {
    "name": "ipython",
    "version": 3
   },
   "file_extension": ".py",
   "mimetype": "text/x-python",
   "name": "python",
   "nbconvert_exporter": "python",
   "pygments_lexer": "ipython3",
   "version": "3.7.4"
  }
 },
 "nbformat": 4,
 "nbformat_minor": 2
}
