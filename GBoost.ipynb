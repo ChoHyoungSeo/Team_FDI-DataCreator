{
 "cells": [
  {
   "cell_type": "code",
   "execution_count": 27,
   "metadata": {},
   "outputs": [
    {
     "name": "stdout",
     "output_type": "stream",
     "text": [
      "Gradient Boost\n",
      "[0.01919908 0.01750982 0.69253263 0.27075847]\n"
     ]
    },
    {
     "data": {
      "image/png": "[encoded data removed]",
      "text/plain": [
       "<Figure size 432x288 with 1 Axes>"
      ]
     },
     "metadata": {
      "needs_background": "light"
     },
     "output_type": "display_data"
    },
    {
     "name": "stdout",
     "output_type": "stream",
     "text": [
      "오차 행렬\n",
      "\n",
      "[[10  0  0]\n",
      " [ 0 13  2]\n",
      " [ 0  0 13]]\n",
      "\n",
      "정답률 :  0.9473684210526315\n"
     ]
    }
   ],
   "source": [
    "import pandas as pd\n",
    "from matplotlib import pyplot\n",
    "from sklearn.ensemble import GradientBoostingClassifier\n",
    "from sklearn.metrics import accuracy_score, confusion_matrix\n",
    "from sklearn.model_selection import train_test_split\n",
    "\n",
    "csv = pd.read_csv('iris.csv')\n",
    "x = csv.iloc[:,1:5]\n",
    "y = csv.iloc[:,5]\n",
    "train_data, test_data, train_label, test_label = train_test_split(x,y)\n",
    "\n",
    "def eval(y_test, pred):\n",
    "    confusion = confusion_matrix(y_test, pred)\n",
    "    accuracy = accuracy_score(y_test, pred)\n",
    "    print(\"오차 행렬\\n\")\n",
    "    print(confusion)\n",
    "    print(\"\\n정답률 : \", accuracy)\n",
    "\n",
    "g_model = GradientBoostingClassifier()\n",
    "g_model.fit(train_data.values, train_label.values)\n",
    "g_pred = g_model.predict(test_data.values)\n",
    "\n",
    "print(\"Gradient Boost\")\n",
    "print(g_model.feature_importances_)\n",
    "pyplot.bar(range(len(g_model.feature_importances_)), g_model.feature_importances_)\n",
    "pyplot.show()\n",
    "eval(test_label.values,g_pred)"
   ]
  }
 ],
 "metadata": {
  "kernelspec": {
   "display_name": "Python 3",
   "language": "python",
   "name": "python3"
  },
  "language_info": {
   "codemirror_mode": {
    "name": "ipython",
    "version": 3
   },
   "file_extension": ".py",
   "mimetype": "text/x-python",
   "name": "python",
   "nbconvert_exporter": "python",
   "pygments_lexer": "ipython3",
   "version": "3.7.4"
  }
 },
 "nbformat": 4,
 "nbformat_minor": 2
}
