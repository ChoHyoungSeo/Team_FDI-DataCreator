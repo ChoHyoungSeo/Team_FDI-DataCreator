{
 "cells": [
  {
   "cell_type": "code",
   "execution_count": 32,
   "metadata": {},
   "outputs": [
    {
     "name": "stdout",
     "output_type": "stream",
     "text": [
      "[[0.00563804 0.97755206 0.01680986]\n",
      " [0.98254657 0.01395846 0.00349498]\n",
      " [0.00363749 0.00615226 0.9902103 ]\n",
      " [0.00564738 0.97917044 0.0151822 ]\n",
      " [0.00540075 0.93640935 0.0581899 ]\n",
      " [0.98607963 0.0104128  0.00350755]\n",
      " [0.00438964 0.99041265 0.0051977 ]\n",
      " [0.0156953  0.06653062 0.917774  ]\n",
      " [0.0063378  0.94877166 0.04489058]\n",
      " [0.00438964 0.99041265 0.0051977 ]\n",
      " [0.01785045 0.07566603 0.9064835 ]\n",
      " [0.99054164 0.00561866 0.00383973]\n",
      " [0.98254657 0.01395846 0.00349498]\n",
      " [0.990855   0.00562044 0.00352453]\n",
      " [0.990855   0.00562044 0.00352453]\n",
      " [0.00435676 0.9863815  0.00926175]\n",
      " [0.0028351  0.00545694 0.991708  ]\n",
      " [0.00506935 0.98753244 0.00739827]\n",
      " [0.00435527 0.98265946 0.01298527]\n",
      " [0.00283684 0.00484793 0.9923152 ]\n",
      " [0.990855   0.00562044 0.00352453]\n",
      " [0.01177546 0.08546324 0.90276134]\n",
      " [0.990855   0.00562044 0.00352453]\n",
      " [0.00283684 0.00484793 0.9923152 ]\n",
      " [0.00561747 0.01081239 0.98357016]\n",
      " [0.00363441 0.00699543 0.9893701 ]\n",
      " [0.00363749 0.00615226 0.9902103 ]\n",
      " [0.00561747 0.01081239 0.98357016]\n",
      " [0.99054164 0.00561866 0.00383973]\n",
      " [0.990855   0.00562044 0.00352453]]\n"
     ]
    }
   ],
   "source": [
    "import numpy as np\n",
    "import pandas as pd\n",
    "from sklearn import datasets\n",
    "from sklearn.model_selection import train_test_split\n",
    "import xgboost as xgb\n",
    " \n",
    "iris = datasets.load_iris()\n",
    "X = iris.data\n",
    "Y= iris.target\n",
    "X_train, X_test, y_train, y_test = train_test_split(X, Y, test_size=0.2,\n",
    "                                                    random_state=42)\n",
    "\n",
    "dtrain = xgb.DMatrix(X_train, label=y_train)\n",
    "dtest = xgb.DMatrix(X_test, label=y_test)\n",
    "param = {'max_depth': 3, 'eta': 0.3,'silent': 1,\n",
    "         'objective': 'multi:softprob','num_class':3}\n",
    "num_round = 20\n",
    "bst = xgb.train(param, dtrain, num_round)\n",
    "preds = bst.predict(dtest)\n",
    "print (preds)"
   ]
  }
 ],
 "metadata": {
  "kernelspec": {
   "display_name": "Python 3",
   "language": "python",
   "name": "python3"
  },
  "language_info": {
   "codemirror_mode": {
    "name": "ipython",
    "version": 3
   },
   "file_extension": ".py",
   "mimetype": "text/x-python",
   "name": "python",
   "nbconvert_exporter": "python",
   "pygments_lexer": "ipython3",
   "version": "3.7.4"
  }
 },
 "nbformat": 4,
 "nbformat_minor": 2
}
