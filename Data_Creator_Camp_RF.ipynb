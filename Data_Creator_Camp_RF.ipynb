{
 "cells": [
  {
   "cell_type": "code",
   "execution_count": 11,
   "metadata": {},
   "outputs": [
    {
     "name": "stdout",
     "output_type": "stream",
     "text": [
      "정답률 = 0.22\n"
     ]
    }
   ],
   "source": [
    "from sklearn import metrics, model_selection\n",
    "from sklearn.ensemble import RandomForestClassifier\n",
    "import pandas as pd\n",
    "import numpy as np\n",
    "\n",
    "#-*- coding:utf-8 -*-\n",
    "\n",
    "X = pd.read_csv(\"C:/Users/LG/Desktop/prepro_x_train.csv\")\n",
    "Y = pd.read_csv(\"C:/Users/LG/Desktop/train_target2.csv\")\n",
    "\n",
    "train_data, train_label = X.iloc[:66452, 3:], Y.iloc[:66452, 2]\n",
    "test_data, test_label = X.iloc[66452:, 3:], Y.iloc[66452:, 2]\n",
    "\n",
    "def MinMaxScaler(data):\n",
    "    numerator = data - np.min(data, 0)\n",
    "    denominator = np.max(data, 0) - np.min(data, 0)\n",
    "    return numerator / (denominator + 1e-7)\n",
    "\n",
    "new_train_data = MinMaxScaler(train_data)\n",
    "new_test_data = MinMaxScaler(test_data)\n",
    "\n",
    "clf = RandomForestClassifier(n_estimators=200, max_depth = 20, oob_score=True)\n",
    "clf.fit(new_train_data, train_label)\n",
    "\n",
    "predict = clf.predict(new_test_data)\n",
    "\n",
    "ac_score = metrics.accuracy_score(test_label, predict)\n",
    "\n",
    "print('정답률 =', round(ac_score, 2))"
   ]
  }
 ],
 "metadata": {
  "kernelspec": {
   "display_name": "Python 3",
   "language": "python",
   "name": "python3"
  },
  "language_info": {
   "codemirror_mode": {
    "name": "ipython",
    "version": 3
   },
   "file_extension": ".py",
   "mimetype": "text/x-python",
   "name": "python",
   "nbconvert_exporter": "python",
   "pygments_lexer": "ipython3",
   "version": "3.7.2"
  }
 },
 "nbformat": 4,
 "nbformat_minor": 2
}
