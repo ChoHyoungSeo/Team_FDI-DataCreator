{
 "cells": [
  {
   "cell_type": "code",
   "execution_count": 1,
   "metadata": {},
   "outputs": [
    {
     "name": "stdout",
     "output_type": "stream",
     "text": [
      "정답률 = 0.2206638616175783\n"
     ]
    }
   ],
   "source": [
    "from sklearn import metrics, model_selection\n",
    "from sklearn.naive_bayes import GaussianNB\n",
    "import pandas as pd\n",
    "\n",
    "#-*- coding:utf-8 -*-\n",
    "\n",
    "X = pd.read_csv(\"C:/Users/LG/Desktop/prepro_x_train.csv\")\n",
    "Y = pd.read_csv(\"C:/Users/LG/Desktop/train_target2.csv\")\n",
    "\n",
    "train_data, train_label = X.iloc[:66452, 3:], Y.iloc[:66452, 2]\n",
    "test_data, test_label = X.iloc[66452:, 3:], Y.iloc[66452:, 2]\n",
    "\n",
    "model = GaussianNB()\n",
    "\n",
    "model.fit(train_data, train_label)\n",
    "\n",
    "predicted = model.predict(test_data)\n",
    "\n",
    "ac_score = metrics.accuracy_score(test_label, predicted)\n",
    "print(\"정답률 =\", ac_score)"
   ]
  }
 ],
 "metadata": {
  "kernelspec": {
   "display_name": "Python 3",
   "language": "python",
   "name": "python3"
  },
  "language_info": {
   "codemirror_mode": {
    "name": "ipython",
    "version": 3
   },
   "file_extension": ".py",
   "mimetype": "text/x-python",
   "name": "python",
   "nbconvert_exporter": "python",
   "pygments_lexer": "ipython3",
   "version": "3.7.2"
  }
 },
 "nbformat": 4,
 "nbformat_minor": 2
}
