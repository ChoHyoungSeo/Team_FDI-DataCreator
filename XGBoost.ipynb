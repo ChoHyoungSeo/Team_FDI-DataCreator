{
 "cells": [
  {
   "cell_type": "code",
   "execution_count": 25,
   "metadata": {},
   "outputs": [
    {
     "data": {
      "image/png": "[encoded data removed]",
      "text/plain": [
       "<Figure size 432x288 with 1 Axes>"
      ]
     },
     "metadata": {
      "needs_background": "light"
     },
     "output_type": "display_data"
    },
    {
     "name": "stdout",
     "output_type": "stream",
     "text": [
      "오차 행렬\n",
      "\n",
      "[[11  0  0]\n",
      " [ 0 13  0]\n",
      " [ 0  0 14]]\n",
      "1.0\n"
     ]
    }
   ],
   "source": [
    "from numpy import loadtxt\n",
    "from numpy import genfromtxt\n",
    "import pandas as pd\n",
    "from xgboost import XGBClassifier\n",
    "from xgboost import plot_importance\n",
    "from matplotlib import pyplot\n",
    "from sklearn.metrics import accuracy_score, f1_score, precision_score, recall_score,roc_auc_score,confusion_matrix\n",
    "from sklearn.model_selection import train_test_split\n",
    "\n",
    "# x = genfromtxt('train_data.csv', delimiter=',')\n",
    "# y = genfromtxt('train_target.csv', delimiter=',')\n",
    "\n",
    "# X, Y = x[1:,3:46], y[1:,2]\n",
    "\n",
    "csv = pd.read_csv('iris.csv')\n",
    "x = csv.iloc[:,1:5]\n",
    "y = csv.iloc[:,5]\n",
    "train_data, test_data, train_label, test_label = train_test_split(x,y)\n",
    "\n",
    "\n",
    "def eval(y_test, pred):\n",
    "    confusion = confusion_matrix(y_test, pred)\n",
    "    accuracy = accuracy_score(y_test, pred)\n",
    "#     precision = precision_score(y_test,pred,average='weighted')\n",
    "#     recall = recall_score(y_test, pred)\n",
    "#     f1 = f1_score(y_test, pred)\n",
    "#     roc_score = roc_auc_score(y_test, pred)\n",
    "    print(\"오차 행렬\\n\")\n",
    "    print(confusion)\n",
    "#     print('정확도: {0:.4f}, 정밀도: {1:.4f}, 재현율: {2:.4f}, f1-score : {3:.4f}, auc값: {4:.4f}'\n",
    "#           .format(accuracy,precision,recall,f1,roc_score))\n",
    "    print(accuracy)\n",
    "    \n",
    "model = XGBClassifier(n_estimators = 400, learning_rate = 0.1, max_depth = 3)\n",
    "# evals = [(X_test, y _test)] evals 데이터셋 다시설정하기.(overfitting)\n",
    "model.fit(train_data.values,train_label.values) #, early_stopping_rounds = 100, eval_metric = \"logloss\", eval_set = evals, verbose = True\n",
    "pred = model.predict(test_data.values)\n",
    "\n",
    "# # dtrain = xgb.DMatrix(X_train, label=y_train)\n",
    "# # dtest = xgb.DMatrix(X_test, label=y_test)\n",
    "# # param = {'max_depth': 3, 'eta': 0.3,'silent': 1,\n",
    "# #          'objective': 'multi:softprob','num_class':5}\n",
    "# # num_round = 20\n",
    "# # bst = xgb.train(param, dtrain, num_round)\n",
    "# # preds = bst.predict(dtest)\n",
    "# # accuracy = accuracy_score(y_test, preds)\n",
    "# # print(accuracy)\n",
    "# #feature importance요\n",
    "\n",
    "plot_importance(model)\n",
    "pyplot.show()\n",
    "eval(test_label.values,pred)"
   ]
  },
  {
   "cell_type": "code",
   "execution_count": null,
   "metadata": {},
   "outputs": [],
   "source": []
  }
 ],
 "metadata": {
  "kernelspec": {
   "display_name": "Python 3",
   "language": "python",
   "name": "python3"
  },
  "language_info": {
   "codemirror_mode": {
    "name": "ipython",
    "version": 3
   },
   "file_extension": ".py",
   "mimetype": "text/x-python",
   "name": "python",
   "nbconvert_exporter": "python",
   "pygments_lexer": "ipython3",
   "version": "3.7.4"
  }
 },
 "nbformat": 4,
 "nbformat_minor": 2
}
