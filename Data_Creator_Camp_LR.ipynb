{
 "cells": [
  {
   "cell_type": "code",
   "execution_count": 1,
   "metadata": {},
   "outputs": [
    {
     "name": "stderr",
     "output_type": "stream",
     "text": [
      "c:\\users\\lg\\appdata\\local\\programs\\python\\python37-32\\lib\\site-packages\\sklearn\\linear_model\\logistic.py:469: FutureWarning: Default multi_class will be changed to 'auto' in 0.22. Specify the multi_class option to silence this warning.\n",
      "  \"this warning.\", FutureWarning)\n",
      "c:\\users\\lg\\appdata\\local\\programs\\python\\python37-32\\lib\\site-packages\\sklearn\\linear_model\\logistic.py:469: FutureWarning: Default multi_class will be changed to 'auto' in 0.22. Specify the multi_class option to silence this warning.\n",
      "  \"this warning.\", FutureWarning)\n",
      "c:\\users\\lg\\appdata\\local\\programs\\python\\python37-32\\lib\\site-packages\\sklearn\\linear_model\\logistic.py:469: FutureWarning: Default multi_class will be changed to 'auto' in 0.22. Specify the multi_class option to silence this warning.\n",
      "  \"this warning.\", FutureWarning)\n",
      "c:\\users\\lg\\appdata\\local\\programs\\python\\python37-32\\lib\\site-packages\\sklearn\\linear_model\\logistic.py:469: FutureWarning: Default multi_class will be changed to 'auto' in 0.22. Specify the multi_class option to silence this warning.\n",
      "  \"this warning.\", FutureWarning)\n",
      "c:\\users\\lg\\appdata\\local\\programs\\python\\python37-32\\lib\\site-packages\\sklearn\\linear_model\\logistic.py:469: FutureWarning: Default multi_class will be changed to 'auto' in 0.22. Specify the multi_class option to silence this warning.\n",
      "  \"this warning.\", FutureWarning)\n",
      "c:\\users\\lg\\appdata\\local\\programs\\python\\python37-32\\lib\\site-packages\\sklearn\\linear_model\\logistic.py:469: FutureWarning: Default multi_class will be changed to 'auto' in 0.22. Specify the multi_class option to silence this warning.\n",
      "  \"this warning.\", FutureWarning)\n"
     ]
    },
    {
     "name": "stdout",
     "output_type": "stream",
     "text": [
      "정답률 = 0.20950210378681627\n",
      "Accuracy =  [0.23997593 0.24068919 0.2407073  0.23440439 0.24260667]\n",
      "Average Accuracy =  0.23967669517068577\n"
     ]
    }
   ],
   "source": [
    "from sklearn import metrics, model_selection\n",
    "from sklearn.linear_model import LogisticRegression\n",
    "import pandas as pd\n",
    "import numpy as np\n",
    "\n",
    "#-*- coding:utf-8 -*-\n",
    "\n",
    "X = pd.read_csv(\"C:/Users/LG/Desktop/prepro_x_train.csv\")\n",
    "Y = pd.read_csv(\"C:/Users/LG/Desktop/train_target2.csv\")\n",
    "\n",
    "train_data, train_label = X.iloc[:66452, 3:], Y.iloc[:66452, 2]\n",
    "test_data, test_label = X.iloc[66452:, 3:], Y.iloc[66452:, 2]\n",
    "\n",
    "def MinMaxScaler(data):\n",
    "    numerator = data - np.min(data, 0)\n",
    "    denominator = np.max(data, 0) - np.min(data, 0)\n",
    "    return numerator / (denominator + 1e-7)\n",
    "\n",
    "new_train_data = MinMaxScaler(train_data)\n",
    "new_test_data = MinMaxScaler(test_data)\n",
    "\n",
    "reg = LogisticRegression(solver = \"saga\", max_iter = 10000)\n",
    "reg.fit(new_train_data, train_label)\n",
    "\n",
    "predict = reg.predict(new_test_data)\n",
    "\n",
    "ac_score = metrics.accuracy_score(test_label, predict)\n",
    "scores = model_selection.cross_val_score(reg, new_train_data, train_label, cv = 5)\n",
    "\n",
    "print(\"정답률 =\", ac_score)\n",
    "print(\"Accuracy = \", scores)\n",
    "print(\"Average Accuracy = \", scores.mean())"
   ]
  }
 ],
 "metadata": {
  "kernelspec": {
   "display_name": "Python 3",
   "language": "python",
   "name": "python3"
  },
  "language_info": {
   "codemirror_mode": {
    "name": "ipython",
    "version": 3
   },
   "file_extension": ".py",
   "mimetype": "text/x-python",
   "name": "python",
   "nbconvert_exporter": "python",
   "pygments_lexer": "ipython3",
   "version": "3.7.2"
  }
 },
 "nbformat": 4,
 "nbformat_minor": 2
}
